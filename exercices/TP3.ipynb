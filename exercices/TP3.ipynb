{
 "cells": [
  {
   "cell_type": "markdown",
   "id": "20f973d1",
   "metadata": {},
   "source": [
    "# Interaction Elémentaire\n",
    "\n",
    "## Création d'un scatter plot interactif\n",
    "\n",
    "### Visualisation des abondances et Pathway pour chaque protéine\n",
    "\n",
    "Nous allons représenter la relation entre l'abondance des protéines (**Log2 Corrected Abundance Ratio**)  et la précision de la mesure (**LOG10 Adj.P-val**)."
   ]
  },
  {
   "cell_type": "code",
   "execution_count": null,
   "id": "cf477afa",
   "metadata": {},
   "outputs": [],
   "source": [
    "import sys, os\n",
    "workDir = f\"{os.getcwd()}/..\"\n",
    "libDir = f\"{workDir}/lib\"\n",
    "dataDir= f\"{workDir}/../data\" \n",
    "\n",
    "sys.path.append(libDir)"
   ]
  },
  {
   "cell_type": "code",
   "execution_count": null,
   "id": "807d3128",
   "metadata": {},
   "outputs": [],
   "source": [
    "import pandas\n",
    "import numpy as np\n",
    "# We use notebook backend to have interactivity support\n",
    "%matplotlib notebook \n",
    "\n",
    "import matplotlib.pyplot as plt"
   ]
  },
  {
   "cell_type": "markdown",
   "id": "13aaba54",
   "metadata": {},
   "source": [
    "#### Exemple pour commencer\n",
    "Observer la cellule suivante qui illustre la construction d'un scatter plot et des améliorations possibles.\n",
    "\n",
    "###### Creation du scatter plot\n",
    "[matplotlib.axes.Axes.scatter()](https://matplotlib.org/3.1.1/api/_as_gen/matplotlib.axes.Axes.scatter.html) permet d'intialiser le graphique.\n",
    "Les quatre arguments positionnels suivants peuvent être donnés:\n",
    "```python\n",
    "Axes.scatter(x,          # Les coordonnées X des points: Float[]\n",
    "             y,          # Les coordonnées Y des points: Float[]\n",
    "             radius,     # Les rayons des points       : Float[] | Float \n",
    "             color,      # Les couleurs des points     : ColorSymbol[] | ColorSymbol\n",
    "             picker=True # Active la gestion événementielle du click, \"le picking de points\", sur le graphique\n",
    "            )\n",
    "```\n",
    "Bien sûr, seuls les deux premiers sont obligatoires, `radius` et `color` étant dotés de valeurs par défault. Si une seule valeur est passée à `radius` ou `color`, elle sera appliqué uniformément à tous les points. \n",
    "\n",
    "###### Modification continue du scatter plot\n",
    "Mais cette fonction retourne aussi un objet [PathCollection](https://matplotlib.org/3.1.1/api/collections_api.html) qui permet de modifier à posteriori le rendu des points du scatter plot.\n",
    "###### Interactivité\n",
    "L'affichage d'une figure via la méthode `fig.canvas.mpl_connect('EVENT_NAME', callbackFunction)` permet d'associer à [un évenement sur la figure](https://matplotlib.org/3.1.1/users/event_handling.html) l'execution d'une fonction (*callbackFunction*). Cette fonction *callback* se voit passer un argument de type *event* qui détaille l'événement (par exemple la position du pointeur). \n",
    "\n",
    "A partir de matplotlib 3.5.0, on lui préferera à la fonction *mpl_connect* la fonction [connect_event()](https://matplotlib.org/stable/api/widgets_api.html?highlight=mpl_connect).\n",
    "\n",
    "</br><span style=\"color:green; font-weight:bold\">$\\downarrow$ Illustration ci-dessous $\\downarrow$</span>\n",
    "</br><span style=\"color:green;\"> NB: Pour l'instant nous passons une liste de nombres aléatoires comme argument \"couleur\" et matplotlib créé pour nous une palette de couleurs. Nous verrons plus tard comment **choisir notre palette de couleurs**. Essayez de clicker et sur la figure et observer le déroulé des fonctions.</span>"
   ]
  },
  {
   "cell_type": "code",
   "execution_count": null,
   "id": "aa9e1486",
   "metadata": {},
   "outputs": [],
   "source": [
    "x, y, c, s = np.random.rand(4, 100)\n",
    "    \n",
    "def onpick(event):\n",
    "    ind = event.ind\n",
    "    tx = str(ind)\n",
    "    text.set_text(tx)\n",
    "    path_collection.set_sizes( np.random.rand(100) * 100 )\n",
    "    \n",
    "fig = plt.figure()\n",
    "ax1 = fig.add_subplot(111)\n",
    "path_collection = ax1.scatter(x, y, 100*s, c, picker=True)\n",
    "text = ax1.text(0.5,1.1, \"\", va=\"bottom\", ha=\"left\")\n",
    "\n",
    "cid = fig.canvas.mpl_connect('pick_event', onpick)"
   ]
  },
  {
   "cell_type": "markdown",
   "id": "8177b663",
   "metadata": {},
   "source": [
    "#### Exercice1: Volcano plot interactif\n",
    "\n",
    "<br/><span style=\"color:firebrick;font-weight:bold\">$\\rhd$ Lecture des données à partir du TSV \n",
    " comme dans le TP précédent</span>\n",
    " <br/><span style=\"color:firebrick;font-weight:bold\">$\\rhd$ Dessiner un volcano plot qui affichera via <a href=\"https://matplotlib.org/stable/api/_as_gen/matplotlib.axes.Axes.text.html\">Axes.text</a> le nom de la protéine cliquée</span>\n",
    " \n",
    "<span style=\"color:green\">NB : Comme illustré ci-dessus, le paramètre event possède un attribut *ind* qui est l'indice de l'élément cliqué.</span>\n",
    "</br><span style=\"color:green\">$\\downarrow$ Vous pouvez faire une figure à deux axes: le premier détenant le scatter-plot et le deuxième axe n'affichant que le nom de la protéine cliquée</span>"
   ]
  },
  {
   "cell_type": "code",
   "execution_count": null,
   "id": "a9cf96fc",
   "metadata": {},
   "outputs": [],
   "source": []
  },
  {
   "cell_type": "markdown",
   "id": "9ff37fc8",
   "metadata": {},
   "source": [
    "#### Exercice2: Volcano plot avancé\n",
    "Dans un nouvelle figure, choisissez une des fonctionnalités suivantes à implémenter:\n",
    "* Colorier les protéines des n Pathways les plus représentés dans le namespace GO de votre choix (biological_process, molecular function, cellular component): **utiliser des palettes de couleurs catégorielles**. Pour une protéine, la priorité sera donnée au pathway avec la meilleur p-value.\n",
    "* Dessiner un volcano plot qui coloriera d'une même couleur les protéines appartenant au pathway GO de la protéine clickée\n",
    "* Dessiner un volcano plot qui fera disparaitre les protéines n'appartenant pas au même pathway(s) GO que ceux de la protéine clickée\n",
    "\n",
    "<span style=\"color:green;font-weight:bold\">$\\downarrow$ Parcourez l'aide ci-dessous avant de choisir$\\downarrow$</span>"
   ]
  },
  {
   "cell_type": "markdown",
   "id": "38f48370",
   "metadata": {},
   "source": [
    "### <span style=\"color:green\">Rappel et guide: Palettes de couleurs</span>\n",
    "matplotlib propose une variété de [palettes de couleurs](https://matplotlib.org/stable/tutorials/colors/colormaps.html).\n",
    "##### Divergentes ou Séquentielles\n",
    "![caption](../figs/cmap1.png)\n",
    "![caption](../figs/cmap2.png)\n",
    "##### Continues ou Catégorielles\n",
    "![caption](../figs/cmap4.png)\n",
    "##### Cyclique\n",
    "![caption](../figs/cmap3.png)\n",
    "\n",
    "<br/><span style=\"color:firebrick;font-weight:bold\">$\\rhd$ Quel type de palette choisir pour colorier en fonction:</span>\n",
    "* <span style=\"color:firebrick\">Des pathways ?</span>\n",
    "* <span style=\"color:firebrick\">Des pvalues ? </span>\n",
    "\n",
    "### <span style=\"color:green\">API colormap</span>\n",
    "###### Charger une palette de couleurs\n",
    "```python\n",
    "cmap = plt.get_cmap('Paired')\n",
    "```\n",
    "\n",
    "###### Palettes de couleurs catégorielles\n",
    "Elles proposent des valeurs discrètes organisées en une liste de triplets RGB\n",
    "###### Connaitre son nombre d'éléments\n",
    "```python\n",
    "print(cmap.N)\n",
    "```\n",
    "###### Accéder à sa liste de couleurs\n",
    "```python\n",
    "print(cmap.colors)\n",
    "```\n",
    "###### Exemple\n",
    "![caption](../figs/cmap5.png)\n",
    "\n",
    "##### Palettes de couleurs quantitatives\n",
    "Elles proposent des valeurs de couleurs continues.\n",
    "\n",
    "Il s'agit de fonctions prenant une valeur en entrée et retournant un triplet RGB. Par défault le domaine de cette fonction est $[0, 1]$. L'intervalle est \"cyclique\", (1.2 donne 0.2, -1.5 donne 0.5, etc).\n",
    "\n",
    "Dans la pratique on devra donc normaliser les valeurs à colorer, pour qu'elles soient contenues dans l'intervalle $[0, 1]$. Deux questions se posent alors pour définir cette fonction $f$:\n",
    "* Les bornes min et max de l'intervalle des valeurs à colorer, telles que $f(min) = 0, f(max) = 1$\n",
    "* L'interpolation pour determiner les valeurs intermédiaires, les plus usuelles étant:\n",
    "    * Linéaire\n",
    "    * Logarithmique\n",
    "    \n",
    "**Le module [colors](https://matplotlib.org/3.1.1/api/colors_api.html) fournit deux outils suivants**\n",
    "\n",
    "###### Fonctions de normalisation \n",
    "![caption](../figs/cmap6.png)\n",
    "###### Fonctions de couleur\n",
    "![caption](../figs/cmap7.png)\n",
    "\n",
    "###### Exemples avec la palette HSV\n",
    "* Colorations avec **normalisation linéaire**, **normalisation logarithmique**, **normalisation logarithmique explicite**\n",
    "![caption](../figs/cmap8.png)"
   ]
  },
  {
   "cell_type": "markdown",
   "id": "5042cc5b",
   "metadata": {},
   "source": [
    "<br/><span style=\"color:firebrick;font-weight:bold\">$\\rhd$ Lecture des données à partir du TSV \n",
    " comme dans le TP précédent</span>\n",
    " <br/><span style=\"color:firebrick;font-weight:bold\">$\\rhd$ Analyse ORA via <i>stat_utils.GO_ORA_analyser</i> OU lecture de données ORA via les fichiers  <i>data/ora/*.json</i></span>\n",
    " <br/><span style=\"color:firebrick;font-weight:bold\">$\\rhd$ Construction du volcano-plot avancé choisi </span>"
   ]
  },
  {
   "cell_type": "code",
   "execution_count": null,
   "id": "38409934",
   "metadata": {},
   "outputs": [],
   "source": []
  }
 ],
 "metadata": {
  "kernelspec": {
   "display_name": "Python 3 (ipykernel)",
   "language": "python",
   "name": "python3"
  },
  "language_info": {
   "codemirror_mode": {
    "name": "ipython",
    "version": 3
   },
   "file_extension": ".py",
   "mimetype": "text/x-python",
   "name": "python",
   "nbconvert_exporter": "python",
   "pygments_lexer": "ipython3",
   "version": "3.10.4"
  }
 },
 "nbformat": 4,
 "nbformat_minor": 5
}
