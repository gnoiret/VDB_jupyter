{
 "cells": [
  {
   "cell_type": "code",
   "execution_count": 3,
   "metadata": {},
   "outputs": [],
   "source": [
    "import pandas\n",
    "import numpy as np"
   ]
  },
  {
   "cell_type": "code",
   "execution_count": 3,
   "metadata": {},
   "outputs": [],
   "source": [
    "%matplotlib inline\n",
    "import matplotlib.pyplot as plt"
   ]
  },
  {
   "cell_type": "markdown",
   "metadata": {},
   "source": [
    "## Jeux de données\n",
    "Jeux de données de protéomique quantitative au format TSV, `TCL_wt1.tsv`\n",
    "\n",
    "## Objectifs\n",
    "##### 1 Lire et traiter des données d'entrée avec [PANDAS](https://pandas.pydata.org/)\n",
    "    * Specification du type des colonnes\n",
    "    * Nettoyage des valeurs incorrectes\n",
    "\n",
    "##### 2 Représenter la distribution empirique des \"fold-change\" (**FC**)\n",
    "    * Representation d'une grille d'histogrammes\n",
    "    * Explorer l'effet du paramètre: nombre de catégories (*bins*)\n",
    "    * Se familliariser avec les objets Axes et Figure\n",
    "    \n",
    "##### 3 Evaluer un seuil de **FDR** 5%, avec une approximation par noyau Gaussien de la distribution.\n",
    "    * Génération d'un jeu de données unimodal (génération par une loi normale)\n",
    "    * A partir de cet echantillon, estimation par noyau gaussien d'une densité de probabilité\n",
    "    * Determiner le seuil alpha des 5% de valeurs extrêmes de la densité de probabilité\n",
    "\n",
    "##### 4 Evaluer un seuil de **FDR** 5% sur les données d'abondance experimentales.\n",
    "    * Choisir un histogramme avec un nombre de catégores pertinent\n",
    "    * Y Superposer la courbe de la densité de probabilité obtenue en suivant la méthode[3]\n",
    "    * Annoter et légender la figure\n",
    "\n",
    "\n",
    "## Ressources\n",
    "https://www.bioconductor.org/help/course-materials/2015/SeattleApr2015/E_GeneSetEnrichment.html\n",
    "\n",
    "https://matplotlib.org/gallery.html#\n",
    "\n",
    "\n"
   ]
  },
  {
   "cell_type": "markdown",
   "metadata": {},
   "source": [
    "## Format des données expérimentales\n",
    "\n",
    "Le terme *RA*, désigne le **R**atio d'**A**bondance pour une protéines entre deux expériences.\n",
    "\n",
    "Les valeurs de **RA** sont stockées dans la colonne `Log2 Corrected Abundance Ratio`.\n",
    "\n",
    "Un \"ratio\" négatif indique qu'une protéine est moins présente dans l'experience considérée par rapport à une experience de référence.\n",
    "\n",
    "* La condition experimentale de référence est un milieu de croissance bactérienne\n",
    "* La condition experimentale testée est un milieu riche en Tétracycline \n",
    "\n"
   ]
  },
  {
   "cell_type": "markdown",
   "metadata": {},
   "source": [
    "# Première exploration des données"
   ]
  },
  {
   "cell_type": "markdown",
   "metadata": {},
   "source": [
    "### Lecture des valeurs experimentales\n",
    "Charger ```TCL_wt1.tsv``` dans une [dataframe pandas](https://pandas.pydata.org/pandas-docs/stable/reference/api/pandas.read_csv.html).\n",
    "##### [Comment filtrer des lignes Pandas](https://cmdlinetips.com/2018/02/how-to-subset-pandas-dataframe-based-on-values-of-a-column/)\n",
    "###### pandas.[read_csv](https://pandas.pydata.org/pandas-docs/stable/reference/api/pandas.read_csv.html) a de nombreuses options bien utiles notamment \n",
    "* dtype\n",
    "* na_values\n",
    "\n",
    "<span style=\"color:firebrick;font-weight:bold\"> $\\rhd$ \n",
    "Retirer les lignes présentant des aberrations numériques\n",
    "</span>\n",
    "\n",
    "Utile pour la suite: si nécessaire, une colonne pandas peut être [convertie](https://pandas.pydata.org/pandas-docs/stable/reference/api/pandas.Series.to_list.html?highlight=to_list#pandas.Series.to_list) en liste python."
   ]
  },
  {
   "cell_type": "code",
   "execution_count": null,
   "metadata": {},
   "outputs": [],
   "source": []
  },
  {
   "cell_type": "markdown",
   "metadata": {},
   "source": [
    "###### Représenter la distribution des **RA** des protéines de l'experience [**Log2 Corrected Abundance Ratio**]\n",
    "La méthode [Axes.hist()](https://matplotlib.org/stable/api/_as_gen/matplotlib.axes.Axes.hist.html#matplotlib.axes.Axes.hist) permet de dessiner des histogrammes.\n",
    "\n",
    "Rappel: La taile de la grille est donnée par les paramètres *ncols, nrows*, comme dans lci dessous\n",
    "  \n",
    "`fig1, ( (ax1, ax2), (ax3, ax4) ) = plt.subplots(figsize=(10,6), ncols=2, nrows=2)`\n",
    "\n",
    "Les valeurs du paramètre *bin* peuvent fortement influencer la forme de l'histogramme.\n",
    "\n",
    "\n",
    "<span style=\"color:firebrick;font-weight:bold\"> $\\rhd$Réaliser une grille 2x2 avec 4 histogrammes, chacun étant paramétré avec une valeur différente de l'option *bins*. Choisissez, quatre valeurs illustrant l'effet du paramètre bin. Vous ajouterez un titre à chaque histogramme indiquant son nombre de bins/catégorie</span>"
   ]
  },
  {
   "cell_type": "code",
   "execution_count": 1,
   "metadata": {},
   "outputs": [],
   "source": []
  },
  {
   "cell_type": "markdown",
   "metadata": {},
   "source": [
    "### Représenter et utiliser la densité de probabilité estimée à partir d'un échantillon\n",
    " A.Démonstration sur un jeu de données aléatoire simple\n",
    "   1. Génération de l'échantillon à partir d'une loi normale\n",
    "   2. Histogramme des valeurs de l'échantillon\n",
    "   3. Estimation de la densité de probabilité à partir de l'échantillon\n",
    "   4. Comparaison et superposition de l'histogramme et de la courbe de densité\n",
    "   5. Determiner et représenter un seuil de valeurs remarquables parmi l'échantillon\n",
    "   \n",
    "B. Application de cette technique au jeu de données expérimentales"
   ]
  },
  {
   "cell_type": "markdown",
   "metadata": {},
   "source": [
    "###### 1/ Générer 1000 valeurs normalement distribuées.\n",
    "```python\n",
    "mu, sigma = 0, 0.1 # mean and standard deviation\n",
    "s = np.random.normal(mu, sigma, 1000)\n",
    "print(f\"s est un tableau de {len(s)} valeurs normalement distribuées autour de {mu}\")\n",
    "print(f\"Les 10 premières valeurs de s sont \\n{s[:10]}\")\n",
    "```\n",
    "<span style=\"color:green;font-weight:bold\">$\\uparrow$ Reproduire cet exemple dans la cellule ci-dessous.$\\downarrow$ </span>"
   ]
  },
  {
   "cell_type": "code",
   "execution_count": null,
   "metadata": {},
   "outputs": [],
   "source": []
  },
  {
   "cell_type": "markdown",
   "metadata": {},
   "source": [
    "###### 2/ Créer une figure dotée d'un seul \"axe\"\n",
    "Dessinons-y l'histogramme des valeurs précedemment générées\n",
    "```python\n",
    "fig2, f2_ax = plt.subplots(figsize=(5,3), ncols=1, nrows=1)\n",
    "count, bins, barObj = f2_ax.hist(s, 50, density=True) \n",
    "```\n",
    "\n",
    "<span style=\"color:green;font-weight:bold\">$\\uparrow$ Reproduire cet exemple dans la cellule ci-dessous $\\downarrow$ </span>\n",
    "\n",
    "<span style=\"color:firebrick;font-weight:bold\"> $\\rhd$ Inspecter les contenus des variables *count* et *bin* retournées par la méthode Axes.hist()</span>\n"
   ]
  },
  {
   "cell_type": "code",
   "execution_count": null,
   "metadata": {},
   "outputs": [],
   "source": []
  },
  {
   "cell_type": "markdown",
   "metadata": {},
   "source": [
    "###### 3/ Estimer la densité de probabilité à partir de l'échantillon de 1000 valeurs par une technique de noyau gaussien\n",
    "Oui c'est bête :D, nous savons que la densité sous-jacente est celle d'une loi normale, mais l'exemple est ainsi assez simple.\n",
    "```python\n",
    "from scipy.stats.kde import gaussian_kde\n",
    "pdf_by_gaussian = gaussian_kde(s)\n",
    "```\n",
    "\n",
    "<span style=\"color:green;font-weight:bold\">$\\uparrow$ Reproduire cet exemple dans la cellule ci-dessous $\\downarrow$ </span>\n",
    "<br/><span style=\"color:firebrick;font-weight:bold\"> $\\rhd$ Expliquer les valeurs retournés par <br/><i>pdf_by_gaussian(-1)</i><br/><i>pdf_by_gaussian(0)</i><br/><i>pdf_by_gaussian(-1)</i></span>\n"
   ]
  },
  {
   "cell_type": "code",
   "execution_count": 11,
   "metadata": {},
   "outputs": [],
   "source": []
  },
  {
   "cell_type": "markdown",
   "metadata": {},
   "source": [
    "###### 3(suite)/ Générer la courbe cette densité\n",
    "* Prenons 1000 points points également répartis entre le minimum et le maximum du jeu de données\n",
    "* Générons les valeurs correspondantes dans la densité\n",
    "```$python\n",
    "x_kde = np.linspace(min(s),max(s), 1000)\n",
    "y_kde = pdf_by_gaussian(x_kde)\n",
    "```\n",
    "\n",
    "<span style=\"color:green;font-weight:bold\">$\\uparrow$ Reproduire cet exemple dans la cellule ci-dessous $\\downarrow$ </span>\n",
    "\n",
    "<span style=\"color:firebrick;font-weight:bold\">$\\rhd$ Dessiner ces deux listes de valeurs dans un graphique [simple](https://matplotlib.org/stable/api/_as_gen/matplotlib.axes.Axes.plot.html) </span>"
   ]
  },
  {
   "cell_type": "code",
   "execution_count": 12,
   "metadata": {},
   "outputs": [],
   "source": []
  },
  {
   "cell_type": "markdown",
   "metadata": {},
   "source": [
    "#### 4/ Représentation graphique de la courbe de densité et de l'histogramme d'échantillon\n",
    "<span style=\"color:firebrick;font-weight:bold\">$\\rhd$Combiner en une figure l'histogramme obtenu en <span style=\"font-weight:bold\">[2]</span> et la courbe de la densité de probabilité obtenue en <span style=\"font-weight:bold\">[3]</span></span>"
   ]
  },
  {
   "cell_type": "code",
   "execution_count": null,
   "metadata": {},
   "outputs": [],
   "source": []
  },
  {
   "cell_type": "markdown",
   "metadata": {},
   "source": [
    "<span style=\"color:green;font-weight:bold\">$\\uparrow$ En se basant sur la figure précédente$\\downarrow$ </span>\n",
    "\n",
    "Mettez le paramètre `density` à False sur `count, bins, barObj = f2_ax.hist(s, 50, density=True)`\n",
    "<br/><span style=\"color:firebrick;font-weight:bold\">$\\rhd$ Qu'observez-vous en ordonnées? Les unités ont-elles changées ? Pourquoi ?</span>\n",
    "<br/><span style=\"color:firebrick;font-weight:bold\">$\\rhd$  Pouvez-vous expliquer le changement de \"forme\" de la courbe de densité?</span>\n",
    "<br/><span style=\"color:firebrick;font-weight:bold\">$\\rhd$  L'aire sous la courbe et/ou sous l'histogramme change-t-elle avec la valeur du paramètre <span style=\"font-weight:normal\">`density`?</span></span>"
   ]
  },
  {
   "cell_type": "code",
   "execution_count": null,
   "metadata": {},
   "outputs": [],
   "source": []
  },
  {
   "cell_type": "markdown",
   "metadata": {},
   "source": [
    "Peut-on imaginer une technique pour dessiner histogramme et courbe de densité avec les bonnes unités en ordonnée ?\n",
    "Les variables count et bins peuvent notamment vous aider à calculer l'aire totale sous l'histogramme.\n",
    "<br/><span style=\"color:firebrick;font-weight:bold\">$\\rhd$  Dessiner histogramme et courbe de densité avec les bonnes unités et les légendes et titres correspondants.</span>"
   ]
  },
  {
   "cell_type": "code",
   "execution_count": null,
   "metadata": {},
   "outputs": [],
   "source": []
  },
  {
   "cell_type": "markdown",
   "metadata": {},
   "source": [
    "#### 4/ Recherche du seuil alpha\n",
    "\n",
    "Le package scipy.integrate permet de calculer l'intégrale exacte d'une fonction \n",
    "\n",
    "`integral_value, residu = scipy.integrate.quad(f, borne_inf, borne_sup)`\n",
    "\n",
    "A l'aide de l'exemple ci-dessus:\n",
    "<br/><span style=\"color:firebrick;font-weight:bold\">$\\rhd$Calculer la valeur de l'aire sous la courbe de densité estimée entre les valeurs minimale et maximale du jeux de données.</span>\n",
    "<br/><span style=\"color:firebrick;font-weight:bold\">$\\rhd$Chercher la borne d'intégration inférieure **alpha** correspondant \"à peu près\" à 5% de l'aire totale sous la courbe de la densité de probabilité estimée.</span>\n"
   ]
  },
  {
   "cell_type": "code",
   "execution_count": null,
   "metadata": {},
   "outputs": [],
   "source": []
  },
  {
   "cell_type": "markdown",
   "metadata": {},
   "source": [
    "###### 5/ Représentation graphique du seuil alpha\n",
    "Redessinez le graphique *histogramme et courbe de densité* mais avec:\n",
    "<br/><span style=\"color:firebrick;font-weight:bold\">$\\rhd$une ligne verticale rouge matérialisant le seuil <i>alpha</i></span>\n",
    "<br/><span style=\"color:firebrick;font-weight:bold\">$\\rhd$Un [texte](https://matplotlib.org/stable/api/_as_gen/matplotlib.axes.Axes.text.html) `alpha(5%) = {valeur de alpha}`</span>\n",
    "<br/><span style=\"color:firebrick;font-weight:bold\">$\\rhd$(Bonus) coloriez en rouge [l'aire sous la courbe](https://matplotlib.org/stable/api/_as_gen/matplotlib.axes.Axes.fill_between.html) de densité correspondant à l'intégrale calculée.</span>"
   ]
  },
  {
   "cell_type": "code",
   "execution_count": null,
   "metadata": {},
   "outputs": [],
   "source": []
  },
  {
   "cell_type": "markdown",
   "metadata": {},
   "source": [
    "## Appliquez cette méthode pour determiner un seuil alpha pour le Ratio d'Abondance\n",
    "$\\Rightarrow$ Echantillon de valeurs `Log2 Corrected Abundance Ratio`\n",
    "1. Estimation de la densité à partir de l'échantillon par noyau gaussien \n",
    "2. Calcul du seuil alpha\n",
    "3. Représentation graphique\n",
    "    * Histogramme\n",
    "    * Densité \n",
    "    * seuil alpha"
   ]
  },
  {
   "cell_type": "code",
   "execution_count": null,
   "metadata": {},
   "outputs": [],
   "source": []
  }
 ],
 "metadata": {
  "kernelspec": {
   "display_name": "Python 3 (ipykernel)",
   "language": "python",
   "name": "python3"
  },
  "language_info": {
   "codemirror_mode": {
    "name": "ipython",
    "version": 3
   },
   "file_extension": ".py",
   "mimetype": "text/x-python",
   "name": "python",
   "nbconvert_exporter": "python",
   "pygments_lexer": "ipython3",
   "version": "3.9.13"
  }
 },
 "nbformat": 4,
 "nbformat_minor": 2
}
